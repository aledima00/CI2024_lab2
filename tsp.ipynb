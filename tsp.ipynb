{
 "cells": [
  {
   "cell_type": "code",
   "execution_count": 1,
   "metadata": {},
   "outputs": [],
   "source": [
    "import logging\n",
    "from itertools import combinations\n",
    "import pandas as pd\n",
    "import numpy as np\n",
    "import geopy.distance\n",
    "from icecream import ic\n",
    "import functools\n",
    "from dataclasses import dataclass\n",
    "from tqdm.auto import tqdm\n",
    "logging.basicConfig(level=logging.DEBUG)"
   ]
  },
  {
   "cell_type": "code",
   "execution_count": 2,
   "metadata": {},
   "outputs": [],
   "source": [
    "CITIES_ROOTPATH = \"cities/\"\n",
    "CITIES=[\"vanuatu.csv\", \"italy.csv\", \"russia.csv\", \"us.csv\", \"china.csv\"]"
   ]
  },
  {
   "cell_type": "code",
   "execution_count": 3,
   "metadata": {},
   "outputs": [],
   "source": [
    "cities = pd.read_csv(CITIES_ROOTPATH+CITIES[1],header=None, names=[\"name\",\"lat\",\"lon\"])"
   ]
  },
  {
   "cell_type": "code",
   "execution_count": 4,
   "metadata": {},
   "outputs": [],
   "source": [
    "dist_matrix = np.zeros((len(cities), len(cities)))\n",
    "for c1, c2 in combinations(cities.itertuples(), 2):\n",
    "    dist_matrix[c1.Index, c2.Index] = dist_matrix[c2.Index, c1.Index] = geopy.distance.geodesic(\n",
    "        (c1.lat, c1.lon), (c2.lat, c2.lon)\n",
    "    ).km"
   ]
  },
  {
   "cell_type": "code",
   "execution_count": 5,
   "metadata": {},
   "outputs": [],
   "source": [
    "# I initialize the rng with repeatable values provided by the instance:\n",
    "# first 10 cities in list format, rounded to int and in absolute value\n",
    "rng = np.random.Generator(np.random.PCG64(cities.lat.head(10).astype(int).abs().to_list()))"
   ]
  },
  {
   "cell_type": "markdown",
   "metadata": {},
   "source": [
    "## GA implementation\n",
    "I my implementation i only tweak on permutation, as:\n",
    "- the problem is meaningless if not all item are taken\n",
    "- there is no meaning in repeated visit of nodes, as the direct link should be the fastest being the graph *fully conected*"
   ]
  },
  {
   "cell_type": "code",
   "execution_count": 6,
   "metadata": {},
   "outputs": [
    {
     "data": {
      "text/plain": [
       "'\\nRandom initialization of the genome\\n'"
      ]
     },
     "execution_count": 6,
     "metadata": {},
     "output_type": "execute_result"
    }
   ],
   "source": [
    "GENOME_SIZE = len(cities)\n",
    "def randomGenome():\n",
    "    genome = np.arange(GENOME_SIZE)\n",
    "    rng.shuffle(genome)\n",
    "    return genome\n",
    "\"\"\"\n",
    "Random initialization of the genome\n",
    "\"\"\""
   ]
  },
  {
   "cell_type": "code",
   "execution_count": 7,
   "metadata": {},
   "outputs": [],
   "source": [
    "def counter(fn):\n",
    "    \"\"\"Simple decorator for counting number of calls\"\"\"\n",
    "\n",
    "    @functools.wraps(fn)\n",
    "    def helper(*args, **kargs):\n",
    "        helper.calls += 1\n",
    "        return fn(*args, **kargs)\n",
    "\n",
    "    helper.calls = 0\n",
    "    return helper\n",
    "\n",
    "@counter\n",
    "def genome_cost(genome:np.ndarray):\n",
    "    \"\"\"Cost function for the given solution, including the call counter decorator\"\"\"\n",
    "    total_len=0\n",
    "    for cpair in zip(genome,np.roll(genome,-1)):\n",
    "        total_len += dist_matrix[cpair[0], cpair[1]]\n",
    "    return total_len\n",
    "\n",
    "def genome_fitness(genome:np.ndarray):\n",
    "    return -genome_cost(genome)\n",
    "\n",
    "\n",
    "\n",
    "class Individual:\n",
    "    __genome: np.ndarray=None\n",
    "    __fitness:float=None\n",
    "\n",
    "    def __init__(self,genome:np.ndarray=None,fitness=None):\n",
    "        if genome is not None:\n",
    "            if fitness is not None:\n",
    "                self.__genome = genome.copy()\n",
    "                self.__fitness = fitness\n",
    "            else:\n",
    "                self.setGenome(genome)\n",
    "\n",
    "    @staticmethod\n",
    "    def getRandom():\n",
    "        return Individual(randomGenome())\n",
    "    \n",
    "    \n",
    "    def setGenome(self,genome:np.ndarray):\n",
    "        self.__genome = genome.copy()\n",
    "        self.__fitness = genome_fitness(self.__genome)\n",
    "\n",
    "    def genome(self)->np.ndarray:\n",
    "        return self.__genome.copy()\n",
    "\n",
    "    def fitness(self):\n",
    "        return self.__fitness\n",
    "    \n",
    "    def copy(self):\n",
    "        return Individual(self.__genome,self.__fitness)"
   ]
  },
  {
   "cell_type": "markdown",
   "metadata": {},
   "source": [
    "Now i use the `Individual` class to define on it my mutation operators; i defined 3 different mutation operators:\n",
    "- `swap_mutation(parent,step=1)`: choose a locus and swap its allele to the one at distance provided by the parameter `step` (considering circularity); `abs(step)` must be l.e. the size of the parent genome;\n",
    "- `inverse_mutation(parent,size=3)`: randomly choose 2 loci where the region defined by them (them included, also considering circularity) has size=`size` and invert the alleles contained by them; require a `size` parameter, representing the size of the inverted region, that must be between `2` and the size of the parent genome;\n",
    "- `insertion_mutation(parent,num_skips=2)`: choose a random locus and move its alleles near another, shifting the others to provide insertion; require a `num_skips` parameter, representing the number of loci skipped (*going left*) by the moving allele;"
   ]
  },
  {
   "cell_type": "code",
   "execution_count": 8,
   "metadata": {},
   "outputs": [],
   "source": [
    "def swap_mutation(parent:Individual,*,step=1):\n",
    "    parent_genome = parent.genome()\n",
    "    if step==0:\n",
    "        return parent.copy()\n",
    "    elif abs(step)>=parent_genome.size:\n",
    "        raise Exception(f\"Cannot use a step of {step} in a {parent_genome.size}-long array\")\n",
    "    loc1 = rng.integers(parent_genome.size)\n",
    "    loc2 = loc1+step\n",
    "    if loc2>parent_genome.size-1:\n",
    "        loc2 = loc2 % parent_genome.size # circular index\n",
    "    parent_genome[loc1],parent_genome[loc2] = parent_genome[loc2],parent_genome[loc1]\n",
    "    return Individual(parent_genome)\n",
    "\n",
    "def inverse_mutation(parent:Individual,size=3):\n",
    "    parent_genome = parent.genome()\n",
    "    if size<2:\n",
    "        return parent.copy()\n",
    "    elif size > parent_genome.size:\n",
    "        raise Exception(f\"Inverting size {size} cannot be applied to a {parent_genome.size}-long array\")\n",
    "    \n",
    "    \"\"\"\n",
    "    Instead of randomly choosing the first locus, i provide circularity by providing a random roll to the array and then operating on it:\n",
    "    in this case, choosing as 0 the first index is equivalent; finally the original order is restored by reversing the roll before returning;\n",
    "    \"\"\"\n",
    "    rollnum = rng.integers(parent_genome.size-1) \n",
    "    circ_genome = np.roll(parent_genome,-rollnum)\n",
    "\n",
    "    # select the subset of the given size, invert it and substitute it to the genome in the curent rotation\n",
    "    last_ind = size-1 # last index is simply size-1 (sure not to go out of borders)\n",
    "    inv_subset = circ_genome[:last_ind+1][::-1] \n",
    "    circ_genome[:last_ind+1] = inv_subset\n",
    "\n",
    "    # restore original order and return\n",
    "    final_genome = np.roll(circ_genome,rollnum)\n",
    "    return Individual(final_genome)\n",
    "\n",
    "def insertion_mutation(parent:Individual,num_skips=2):\n",
    "    parent_genome = parent.genome()\n",
    "    if num_skips<1:\n",
    "        return parent.copy()\n",
    "    elif num_skips>=parent_genome.size:\n",
    "        raise Exception(f\"It is impossible to skip more than {parent_genome.size-1} items for insertion in a {parent_genome.size}-long array; you tried skipping {num_skips}\")\n",
    "    \n",
    "    # perform removal\n",
    "    rem_ind = rng.integers(parent_genome.size) # random index to remove from\n",
    "    tmp = parent_genome[rem_ind] # save value\n",
    "    parent_genome = np.delete(parent_genome,rem_ind)\n",
    "\n",
    "    # perform insertion and return\n",
    "    ins_ind = rem_ind-num_skips\n",
    "    if ins_ind<0:\n",
    "        ins_ind = parent_genome.size+ins_ind\n",
    "    parent_genome = np.insert(parent_genome,ins_ind,tmp)\n",
    "    return Individual(parent_genome)"
   ]
  },
  {
   "cell_type": "markdown",
   "metadata": {},
   "source": [
    "Now i do the same, using the `Individual`, but to define on it my **xover** operators; i defined 3 different mutation operators:\n",
    "- `PMX(parent1,parent2,slice_size=2)`: Partially mapped crossover, with given size=`slice_size` (that must be between l.e. than the size of the genome of the parents) representing the size of the contiguous slice fully copied from the first parent;\n",
    "- `OX(parent1,parent2,slice_size=2)`: Order Crossover, with given size=`slice_size` (that must be between l.e. than the size of the genome of the parents) representing the size of the contiguous slice fully copied from the first parent;\n",
    "- `CX(parent1,parent2)`: Cicle Crossover;"
   ]
  },
  {
   "cell_type": "code",
   "execution_count": 9,
   "metadata": {},
   "outputs": [],
   "source": [
    "def PMX(parent1:Individual,parent2:Individual,*,slice_size=2):\n",
    "    sz = slice_size\n",
    "    pg1 = parent1.genome()\n",
    "    pg2 = parent2.genome()\n",
    "    if sz<1:\n",
    "        raise Exception(f\"Slice size {sz} cannot be applied to {pg1.size}-long arrays, must be between 1 and {pg1.size}\")\n",
    "    elif pg1.size != pg2.size:\n",
    "        raise Exception(f\"Length of the genomes of the 2 parents must match, instead you provided parents with g.l. {pg1.size} and {pg2.size}\")\n",
    "    elif sz > pg1.size:\n",
    "        raise Exception(f\"Slice size {sz} cannot be applied to {pg1.size}-long arrays, must be between 1 and {pg1.size}\")\n",
    "    \n",
    "    psz = pg1.size\n",
    "    \n",
    "    \"\"\"\n",
    "    Instead of randomly choosing the first locus, i provide circularity by providing a random roll to the array and then operating on it:\n",
    "    in this case, choosing as 0 the first index is equivalent; finally the original order is restored by reversing the roll before returning;\n",
    "    \"\"\"\n",
    "    rollnum = rng.integers(psz-1) \n",
    "    rot_pg1 = np.roll(pg1,-rollnum)\n",
    "    rot_pg2 = np.roll(pg2,-rollnum)\n",
    "\n",
    "    rot_sg = rot_pg1.copy() # create son genome (rotated)\n",
    "\n",
    "    # select the subset of the given size from the first parent and create the mapping\n",
    "    mapping = dict()\n",
    "    last_ind = sz-1 # last index is simply sz-1 (sure not to go out of borders)\n",
    "    for i in range(last_ind+1):\n",
    "        mapping[rot_pg1[i]]=rot_pg2[i]\n",
    "    for i in range(last_ind+1,psz):\n",
    "        rot_sg[i]=rot_pg2[i]\n",
    "        while rot_sg[i] in mapping:\n",
    "            rot_sg[i] = mapping[rot_sg[i]]\n",
    "    \n",
    "    son_genome = np.roll(rot_sg,rollnum)\n",
    "    return Individual(son_genome)\n",
    "\n",
    "def OX(parent1:Individual,parent2:Individual,slice_size=2):\n",
    "    sz = slice_size\n",
    "    pg1 = parent1.genome()\n",
    "    pg2 = parent2.genome()\n",
    "    if sz<1:\n",
    "        raise Exception(f\"Slice size {sz} cannot be applied to {pg1.size}-long arrays, must be between 1 and {pg1.size}\")\n",
    "    elif pg1.size != pg2.size:\n",
    "        raise Exception(f\"Length of the genomes of the 2 parents must match, instead you provided parents with g.l. {pg1.size} and {pg2.size}\")\n",
    "    elif sz > pg1.size:\n",
    "        raise Exception(f\"Slice size {sz} cannot be applied to {pg1.size}-long arrays, must be between 1 and {pg1.size}\")\n",
    "    \n",
    "    psz = pg1.size\n",
    "    \n",
    "    \"\"\"\n",
    "    Instead of randomly choosing the first locus, i provide circularity by providing a random roll to the array and then operating on it:\n",
    "    in this case, choosing as 0 the first index is equivalent; finally the original order is restored by reversing the roll before returning;\n",
    "    \"\"\"\n",
    "    rollnum = rng.integers(psz-1) \n",
    "    rot_pg1 = np.roll(pg1,-rollnum)\n",
    "    rot_pg2 = np.roll(pg2,-rollnum)\n",
    "\n",
    "    rot_sg = rot_pg1.copy() # create son genome (rotated)\n",
    "\n",
    "    taken = rot_pg1[:sz] # elements copied from p1\n",
    "    offset = sz # start copying the rest from p2 starting from the first locus out of the copied section\n",
    "    idx2=0\n",
    "    for i in range(offset,psz):\n",
    "        while idx2<psz and rot_pg2[idx2] in taken:\n",
    "            idx2+=1\n",
    "        if idx2<psz:\n",
    "            rot_sg[i] = rot_pg2[idx2]\n",
    "            idx2+=1\n",
    "        else:\n",
    "            break\n",
    "\n",
    "    son_genome = np.roll(rot_sg,rollnum)\n",
    "    return Individual(son_genome)\n",
    "\n",
    "def CX(parent1:Individual,parent2:Individual):\n",
    "    pg1 = parent1.genome()\n",
    "    pg2 = parent2.genome()\n",
    "    psz = pg1.size\n",
    "    \n",
    "    son_genome = pg1.copy()\n",
    "    \n",
    "    pos_g1 = []\n",
    "    id1=None\n",
    "    while id1!=0:\n",
    "        if id1 is None:\n",
    "            id1=0\n",
    "        pos_g1.append(id1)\n",
    "\n",
    "        a2=pg2[id1] # p2 allele a2 corresponding to pg2[id1]\n",
    "        id1=np.where(pg1==a2)[0][0] # index id1 such that pg1[id1]==a2 allele from p2\n",
    "\n",
    "    idx2=0\n",
    "    pg2 = np.delete(pg2,pos_g1)\n",
    "    for i in range(psz):\n",
    "        if i not in pos_g1:\n",
    "            son_genome[i] = pg2[idx2]\n",
    "            idx2+=1\n",
    "\n",
    "    return Individual(son_genome)    \n"
   ]
  },
  {
   "cell_type": "markdown",
   "metadata": {},
   "source": [
    "Finally, i further define `Mutator` and `Recombinator` classes, that automatically wraps the all the relative method in once:\n",
    "- `Mutator` wraps all the mutation operators\n",
    "- `Recombinator` wraps all the recombination operators"
   ]
  },
  {
   "cell_type": "code",
   "execution_count": 10,
   "metadata": {},
   "outputs": [],
   "source": [
    "class Mutator:\n",
    "    __genome_size=None\n",
    "    __mutators=list()\n",
    "    __index=0\n",
    "\n",
    "    def __init__(self,genome_size):\n",
    "        self.__genome_size=genome_size\n",
    "        \"\"\" For each function we provide the name and the list of parameters;\n",
    "         each parameter is provided in a dictionary form where for the name of each parameter is provided\n",
    "         the tuple contaning (minval,maxval) for the random generation, with maxval excluded \"\"\"\n",
    "        self.__mutators = [(swap_mutation,{\"step\":(1,self.__genome_size)}),(inverse_mutation,{\"size\":(2,self.__genome_size+1)}),(insertion_mutation,{\"num_skips\":(1,self.__genome_size)})]\n",
    "    \n",
    "    def mutate(self,parent):\n",
    "        mut = self.__mutators[self.__index]\n",
    "        mut_func = mut[0]\n",
    "        mut_params = mut[1].copy()\n",
    "        for k in mut_params:\n",
    "            mut_params[k] = rng.integers(mut_params[k][0],mut_params[k][1])\n",
    "        self.__index+=1\n",
    "        if self.__index>=len(self.__mutators):\n",
    "            self.__index=0\n",
    "        return mut_func(parent,**mut_params)\n",
    "\n",
    "    def __call__(self, *args, **kwds):\n",
    "        return self.mutate(*args, **kwds)\n",
    "    \n",
    "\n",
    "class Recombinator:\n",
    "    __genome_size=None\n",
    "    __recombinators=list()\n",
    "    __index=0\n",
    "\n",
    "    def __init__(self,genome_size):\n",
    "        self.__genome_size=genome_size\n",
    "        \"\"\" For each function we provide the name and the list of parameters;\n",
    "         each parameter is provided in a dictionary form where for the name of each parameter is provided\n",
    "         the tuple contaning (minval,maxval) for the random generation, with maxval excluded \"\"\"\n",
    "        self.__recombinators = [(PMX,{\"slice_size\":(1,self.__genome_size+1)}),(OX,{\"slice_size\":(1,self.__genome_size+1)}),(CX,dict())]\n",
    "    \n",
    "    def recombinate(self,p1,p2):\n",
    "        rec = self.__recombinators[self.__index]\n",
    "        rec_func = rec[0]\n",
    "        rec_params = rec[1].copy()\n",
    "        for k in rec_params:\n",
    "            rec_params[k] = rng.integers(rec_params[k][0],rec_params[k][1])\n",
    "        self.__index+=1\n",
    "        if self.__index>=len(self.__recombinators):\n",
    "            self.__index=0\n",
    "        return rec_func(p1,p2,**rec_params)\n",
    "\n",
    "    def __call__(self, *args, **kwds):\n",
    "        return self.recombinate(*args, **kwds)\n",
    "    \n",
    "    \n",
    "MOP = Mutator(GENOME_SIZE)\n",
    "XOP = Recombinator(GENOME_SIZE)\n"
   ]
  },
  {
   "cell_type": "markdown",
   "metadata": {},
   "source": [
    "### Parent Selection\n"
   ]
  },
  {
   "cell_type": "code",
   "execution_count": 11,
   "metadata": {},
   "outputs": [],
   "source": [
    "def parent_selection(population,*,tau=2):\n",
    "    \"\"\" Perform tournament selection on `population`, by randomly picking `tau` individuals,\n",
    "     one at the time and with replacement, choosing then the fittest **one** \"\"\"\n",
    "    candidates = sorted(np.random.choice(population, tau), key=lambda e: e.fitness(), reverse=True)\n",
    "    return candidates[0]"
   ]
  },
  {
   "cell_type": "markdown",
   "metadata": {},
   "source": [
    "## Application\n",
    "\n",
    "Now we iterate to perform the search"
   ]
  },
  {
   "cell_type": "code",
   "execution_count": 12,
   "metadata": {},
   "outputs": [],
   "source": [
    "POPULATION_SIZE = 10\n",
    "OFFSPRING_SIZE = 4\n",
    "# if OFFSPRING_SIZE << POPULATION_SIZE => more Steady-State model\n",
    "# if OFFSPRING_SIZE >> POPOLUTION_SIZE => more Generational model\n",
    "MAX_GENERATIONS=10000\n",
    "MUTATION_PROBABILITY=0.3"
   ]
  },
  {
   "cell_type": "code",
   "execution_count": 13,
   "metadata": {},
   "outputs": [
    {
     "name": "stderr",
     "output_type": "stream",
     "text": [
      "ic| population[0].fitness(): np.float64(-19068.89945511599)\n"
     ]
    },
    {
     "data": {
      "application/vnd.jupyter.widget-view+json": {
       "model_id": "65bf90ae31f64c49b5561d5a96f7c2da",
       "version_major": 2,
       "version_minor": 0
      },
      "text/plain": [
       "Generation:   0%|          | 0/10000 [00:00<?, ?it/s]"
      ]
     },
     "metadata": {},
     "output_type": "display_data"
    },
    {
     "name": "stderr",
     "output_type": "stream",
     "text": [
      "ic| genome_cost.calls: 40010\n",
      "ic| population[0].fitness(): np.float64(-4264.035160758903)\n",
      "ic| population[0].genome(): array([ 9,  4, 29, 10, 12, 30, 33,  0, 27, 26, 39, 34, 15, 14, 21, 35, 11,\n",
      "                                    1,  2, 38, 17, 31, 37,  8, 24,  7, 36, 16, 13, 42, 22, 18, 20,  3,\n",
      "                                    6, 28, 25, 32, 19, 44, 45, 40,  5, 41, 43, 23])\n"
     ]
    }
   ],
   "source": [
    "\n",
    "\n",
    "population = [Individual.getRandom() for _ in range(POPULATION_SIZE)]\n",
    "ic(population[0].fitness())\n",
    "\n",
    "for g in tqdm(range(MAX_GENERATIONS),position=0,desc=\"Generation\"):\n",
    "    offspring = list()\n",
    "    for _ in range(OFFSPRING_SIZE):\n",
    "        if rng.random()<MUTATION_PROBABILITY:\n",
    "            p = parent_selection(population)\n",
    "            o = MOP(p)\n",
    "        else:\n",
    "            p1 = parent_selection(population)\n",
    "            p2 = parent_selection(population)\n",
    "            o = XOP(p1, p2)\n",
    "        offspring.append(o)\n",
    "\n",
    "    # SURVIVOR SELECTION\n",
    "    population.extend(offspring)\n",
    "    population.sort(key=lambda i: i.fitness(), reverse=True)\n",
    "    population = population[:POPULATION_SIZE]\n",
    "\n",
    "ic(genome_cost.calls)\n",
    "ic(population[0].fitness())\n",
    "ic(population[0].genome());"
   ]
  }
 ],
 "metadata": {
  "kernelspec": {
   "display_name": ".venv",
   "language": "python",
   "name": "python3"
  },
  "language_info": {
   "codemirror_mode": {
    "name": "ipython",
    "version": 3
   },
   "file_extension": ".py",
   "mimetype": "text/x-python",
   "name": "python",
   "nbconvert_exporter": "python",
   "pygments_lexer": "ipython3",
   "version": "3.12.4"
  }
 },
 "nbformat": 4,
 "nbformat_minor": 2
}
