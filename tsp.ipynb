{
 "cells": [
  {
   "cell_type": "markdown",
   "metadata": {},
   "source": [
    "# TSP problem"
   ]
  },
  {
   "cell_type": "code",
   "execution_count": 1,
   "metadata": {},
   "outputs": [],
   "source": [
    "from itertools import combinations\n",
    "import pandas as pd\n",
    "import numpy as np\n",
    "import geopy.distance\n",
    "from icecream import ic\n",
    "import functools\n",
    "from tqdm.auto import tqdm\n",
    "from matplotlib import pyplot as plt\n",
    "import math"
   ]
  },
  {
   "cell_type": "markdown",
   "metadata": {},
   "source": [
    "Let's import one of the available datasets of cities by choosing the desired `CHOSEN_SET` from in `{0,1,2,3,4}` (*4 is the biggest*)."
   ]
  },
  {
   "cell_type": "code",
   "execution_count": 2,
   "metadata": {},
   "outputs": [],
   "source": [
    "CITIES_ROOTPATH = \"cities/\"\n",
    "CITIES=[\"vanuatu.csv\", \"italy.csv\", \"russia.csv\", \"us.csv\", \"china.csv\"]"
   ]
  },
  {
   "cell_type": "code",
   "execution_count": 3,
   "metadata": {},
   "outputs": [],
   "source": [
    "# uncomment one \n",
    "CHOSEN_SET = 0 # vanuatu\n",
    "#CHOSEN_SET = 1 # italy\n",
    "#CHOSEN_SET = 2 # russia\n",
    "#CHOSEN_SET = 3 # us\n",
    "#CHOSEN_SET = 4 # china\n",
    "\n",
    "cities = pd.read_csv(CITIES_ROOTPATH+CITIES[CHOSEN_SET],header=None, names=[\"name\",\"lat\",\"lon\"])\n",
    "NUM_CITIES = len(cities);"
   ]
  },
  {
   "cell_type": "markdown",
   "metadata": {},
   "source": [
    "Now i define the dist. matrix with *geopy*, identifying at each `[i,j]` position the distance in *km* between cities at indexes `i` and `j`."
   ]
  },
  {
   "cell_type": "code",
   "execution_count": 4,
   "metadata": {},
   "outputs": [],
   "source": [
    "dist_matrix = np.zeros((len(cities), len(cities)))\n",
    "for c1, c2 in combinations(cities.itertuples(), 2):\n",
    "    dist_matrix[c1.Index, c2.Index] = dist_matrix[c2.Index, c1.Index] = geopy.distance.geodesic(\n",
    "        (c1.lat, c1.lon), (c2.lat, c2.lon)\n",
    "    ).km"
   ]
  },
  {
   "cell_type": "markdown",
   "metadata": {},
   "source": [
    "Finally, i defined a random number generator initialized with a seed that is dependent on the problem configuration, in order to control the pseudo-randomness allowing reproducible execution."
   ]
  },
  {
   "cell_type": "code",
   "execution_count": 5,
   "metadata": {},
   "outputs": [],
   "source": [
    "# I initialize the rng with repeatable values provided by the instance:\n",
    "# first 10 cities in list format, rounded to int and in absolute value\n",
    "rng = np.random.Generator(np.random.PCG64(cities.lat.head(10).astype(int).abs().to_list()))"
   ]
  },
  {
   "cell_type": "markdown",
   "metadata": {},
   "source": [
    "## Definitions & Utilities\n",
    "\n",
    "Let's define some utilities that will be used in different phases: indeed we decide\n",
    "- **encoding/genome**: i used a one-time encoding in a circular list of integers:\n",
    "    - the solution is encoded in the array of indexes of cities ordered in the related visit order\n",
    "    - the whole length of the **circular path** is composed by the sum of all the paths that are made from the city in an item to the city in the next item;\n",
    "    - consider also the adjaceny of the first item to the last, due to the list circularity, allowing to close the path as requested by the problem\n",
    "- **cost**: cost is computed on the encoded solution (*genome*) simply by iterating on the solution array, accumulating at each iteration `i` the distance from city at index `i` to city at index `i+1` of the solution; when `i=len(cities)`, the \"*next city*\" will be the first item, closing the path. This result in having as cost the length of the whole path in *km*.\n",
    "- **fitness**: fitness is considered as the negative cost, as we only want to minimize the total length of the whole path.\n",
    "\n",
    "> Notice that in this encoding there is no meaning in absolute position of indexes in the array, instead all the phenotype traits are encoded in relative positioning of items and in their closeness."
   ]
  },
  {
   "cell_type": "code",
   "execution_count": 6,
   "metadata": {},
   "outputs": [],
   "source": [
    "GENOME_SIZE = NUM_CITIES\n",
    "\n",
    "def hprint(*args,**kwargs):\n",
    "    \"\"\"Equivalent to print, but highlighted.\"\"\"\n",
    "    print('\\x1b[1;30;42m' + args[0] + '\\x1b[0m',*args[1:],**kwargs)\n",
    "\n",
    "def counter(fn):\n",
    "    \"\"\"Simple decorator for counting number of calls\"\"\"\n",
    "\n",
    "    @functools.wraps(fn)\n",
    "    def helper(*args, **kargs):\n",
    "        helper.calls += 1\n",
    "        return fn(*args, **kargs)\n",
    "\n",
    "    helper.calls = 0\n",
    "    return helper\n",
    "\n",
    "@counter\n",
    "def genome_cost(genome:np.ndarray):\n",
    "    \"\"\"Compute the cost for the given solution/genome.\"\"\"\n",
    "    total_len=0\n",
    "    for cpair in zip(genome,np.roll(genome,-1)):\n",
    "        total_len += dist_matrix[cpair[0], cpair[1]]\n",
    "    return total_len\n",
    "\n",
    "def genome_fitness(genome:np.ndarray):\n",
    "    return -genome_cost(genome)\n",
    "\n",
    "def randomGenome(sz):\n",
    "    \"\"\"Retrieves a random genome of the given size `sz`.\"\"\"\n",
    "    genome = np.arange(sz)\n",
    "    rng.shuffle(genome)\n",
    "    return genome"
   ]
  },
  {
   "cell_type": "markdown",
   "metadata": {},
   "source": [
    "## Greedy Approach\n",
    "First, let's try with a greedy approach, picking at each step the closest city to the first and the last one: indeed, as i used a circular list, i decided to proceed composing the solution by picking alternatively the closest city to the first and the last cities in the current solution.\n",
    "- push front closest to previous front\n",
    "- push back closest to previous back\n"
   ]
  },
  {
   "cell_type": "code",
   "execution_count": 7,
   "metadata": {},
   "outputs": [
    {
     "name": "stderr",
     "output_type": "stream",
     "text": [
      "ic| genome_cost(greedy_solution): np.float64(1714.8219128836638)\n",
      "ic| genome_cost(randomGenome(GENOME_SIZE)): np.float64(1573.7657465927193)\n"
     ]
    }
   ],
   "source": [
    "to_be_visited = [i for i in range(NUM_CITIES)]\n",
    "greedy_solution = [to_be_visited.pop(0)]\n",
    "# in each iteration, add one at the top and one at the bottom of the array\n",
    "lgs = len(greedy_solution)\n",
    "\n",
    "while lgs!=NUM_CITIES:\n",
    "    to_be_visited.sort(key=lambda i: dist_matrix[i,greedy_solution[0]])\n",
    "    greedy_solution.insert(0,to_be_visited.pop(0))\n",
    "    lgs+=1\n",
    "    \n",
    "    if lgs!=NUM_CITIES:\n",
    "        to_be_visited.sort(key=lambda i: dist_matrix[i,greedy_solution[lgs-1]])\n",
    "        greedy_solution.insert(lgs,to_be_visited.pop())\n",
    "        lgs+=1\n",
    "    \n",
    "greedy_solution = np.array(greedy_solution)\n",
    "ic(genome_cost(greedy_solution))\n",
    "ic(genome_cost(randomGenome(GENOME_SIZE)));"
   ]
  },
  {
   "cell_type": "markdown",
   "metadata": {},
   "source": [
    "## GA implementation\n",
    "The greedy approach by itself is not able to provide a good solution, as shown by comparing it with a randomly obtained solution: indeed, connecting closest cities at each step is not a global optimization, and it is a good strategy only for a very small number of cities.\n",
    "\n",
    "However, it can be used as a starting point for a *GA approach*.\n",
    "Let's consider *genomes* defined as above, using them to run a genetic algorithm to optimize the search.\n",
    "I my implementation i only tweak on permutation, as:\n",
    "- the problem is meaningless if not all item are taken\n",
    "- there is no meaning in repeated visit of nodes, as the direct link should be the fastest being the graph *fully conected*\n",
    "\n",
    "First, let's define the class `Individual`, in order to wrap the genomes in a convenient class; the class also automatically manages the fitness, that is automatically updated when modifying the genome through the setter method `.setGenome()`: this is convenient as teh fitness of individuals is always computed at least one time, and often many times, so it saves re-computations by caching the result in a local variable.\n",
    "\n",
    "> It is strognly suggested to access genome and variables through dedicated getters and setters methods."
   ]
  },
  {
   "cell_type": "code",
   "execution_count": 8,
   "metadata": {},
   "outputs": [],
   "source": [
    "class Individual:\n",
    "    __genome: np.ndarray=None\n",
    "    __fitness:float=None\n",
    "\n",
    "    def __init__(self,genome:np.ndarray=None,fitness=None):\n",
    "        if genome is not None:\n",
    "            if fitness is not None:\n",
    "                self.__genome = genome.copy()\n",
    "                self.__fitness = fitness\n",
    "            else:\n",
    "                self.setGenome(genome)\n",
    "\n",
    "    @staticmethod\n",
    "    def getRandom():\n",
    "        return Individual(randomGenome(GENOME_SIZE))\n",
    "    \n",
    "    \n",
    "    def setGenome(self,genome:np.ndarray):\n",
    "        self.__genome = genome.copy()\n",
    "        self.__fitness = genome_fitness(self.__genome)\n",
    "\n",
    "    def genome(self)->np.ndarray:\n",
    "        return self.__genome.copy()\n",
    "\n",
    "    def fitness(self):\n",
    "        return self.__fitness\n",
    "    \n",
    "    def copy(self):\n",
    "        return Individual(self.__genome,self.__fitness)"
   ]
  },
  {
   "cell_type": "markdown",
   "metadata": {},
   "source": [
    "Now i use the `Individual` class to define on it my mutation operators; i defined 3 different mutation operators:\n",
    "- `swap_mutation(parent,step=1)`: choose a locus and swap its allele to the one at distance provided by the parameter `step` (considering circularity); `abs(step)` must be l.e. the size of the parent genome;\n",
    "- `inverse_mutation(parent,size=3)`: randomly choose 2 loci where the region defined by them (them included, also considering circularity) has size=`size` and invert the alleles contained by them; require a `size` parameter, representing the size of the inverted region, that must be between `2` and the size of the parent genome;\n",
    "- `insertion_mutation(parent,num_skips=2)`: choose a random locus and move its alleles near another, shifting the others to provide insertion; require a `num_skips` parameter, representing the number of loci skipped (*going left*) by the moving allele;"
   ]
  },
  {
   "cell_type": "code",
   "execution_count": 9,
   "metadata": {},
   "outputs": [],
   "source": [
    "def swap_mutation(parent:Individual,*,step=1):\n",
    "    parent_genome = parent.genome()\n",
    "    if step==0:\n",
    "        return parent.copy()\n",
    "    elif abs(step)>=parent_genome.size:\n",
    "        raise Exception(f\"Cannot use a step of {step} in a {parent_genome.size}-long array\")\n",
    "    loc1 = rng.integers(parent_genome.size)\n",
    "    loc2 = loc1+step\n",
    "    if loc2>parent_genome.size-1:\n",
    "        loc2 = loc2 % parent_genome.size # circular index\n",
    "    parent_genome[loc1],parent_genome[loc2] = parent_genome[loc2],parent_genome[loc1]\n",
    "    return Individual(parent_genome)\n",
    "\n",
    "def inverse_mutation(parent:Individual,size=3):\n",
    "    parent_genome = parent.genome()\n",
    "    if size<2:\n",
    "        return parent.copy()\n",
    "    elif size > parent_genome.size:\n",
    "        raise Exception(f\"Inverting size {size} cannot be applied to a {parent_genome.size}-long array\")\n",
    "    \n",
    "    \"\"\"\n",
    "    Instead of randomly choosing the first locus, i provide circularity by providing a random roll to the array and then operating on it:\n",
    "    in this case, choosing as 0 the first index is equivalent; finally the original order is restored by reversing the roll before returning;\n",
    "    \"\"\"\n",
    "    rollnum = rng.integers(parent_genome.size-1) \n",
    "    circ_genome = np.roll(parent_genome,-rollnum)\n",
    "\n",
    "    # select the subset of the given size, invert it and substitute it to the genome in the curent rotation\n",
    "    last_ind = size-1 # last index is simply size-1 (sure not to go out of borders)\n",
    "    inv_subset = circ_genome[:last_ind+1][::-1] \n",
    "    circ_genome[:last_ind+1] = inv_subset\n",
    "\n",
    "    # restore original order and return\n",
    "    final_genome = np.roll(circ_genome,rollnum)\n",
    "    return Individual(final_genome)\n",
    "\n",
    "def insertion_mutation(parent:Individual,num_skips=2):\n",
    "    parent_genome = parent.genome()\n",
    "    if num_skips<1:\n",
    "        return parent.copy()\n",
    "    elif num_skips>=parent_genome.size:\n",
    "        raise Exception(f\"It is impossible to skip more than {parent_genome.size-1} items for insertion in a {parent_genome.size}-long array; you tried skipping {num_skips}\")\n",
    "    \n",
    "    # perform removal\n",
    "    rem_ind = rng.integers(parent_genome.size) # random index to remove from\n",
    "    tmp = parent_genome[rem_ind] # save value\n",
    "    parent_genome = np.delete(parent_genome,rem_ind)\n",
    "\n",
    "    # perform insertion and return\n",
    "    ins_ind = rem_ind-num_skips\n",
    "    if ins_ind<0:\n",
    "        ins_ind = parent_genome.size+ins_ind\n",
    "    parent_genome = np.insert(parent_genome,ins_ind,tmp)\n",
    "    return Individual(parent_genome)"
   ]
  },
  {
   "cell_type": "markdown",
   "metadata": {},
   "source": [
    "Now i do the same, using the `Individual`, but to define on it my **xover** operators; i defined 3 different mutation operators:\n",
    "- `PMX(parent1,parent2,slice_size=2)`: Partially mapped crossover, with given size=`slice_size` (that must be between l.e. than the size of the genome of the parents) representing the size of the contiguous slice fully copied from the first parent;\n",
    "- `OX(parent1,parent2,slice_size=2)`: Order Crossover, with given size=`slice_size` (that must be between l.e. than the size of the genome of the parents) representing the size of the contiguous slice fully copied from the first parent;\n",
    "- `CX(parent1,parent2)`: Cicle Crossover;"
   ]
  },
  {
   "cell_type": "code",
   "execution_count": 10,
   "metadata": {},
   "outputs": [],
   "source": [
    "def PMX(parent1:Individual,parent2:Individual,*,slice_size=2):\n",
    "    sz = slice_size\n",
    "    pg1 = parent1.genome()\n",
    "    pg2 = parent2.genome()\n",
    "    if sz<1:\n",
    "        raise Exception(f\"Slice size {sz} cannot be applied to {pg1.size}-long arrays, must be between 1 and {pg1.size}\")\n",
    "    elif pg1.size != pg2.size:\n",
    "        raise Exception(f\"Length of the genomes of the 2 parents must match, instead you provided parents with g.l. {pg1.size} and {pg2.size}\")\n",
    "    elif sz > pg1.size:\n",
    "        raise Exception(f\"Slice size {sz} cannot be applied to {pg1.size}-long arrays, must be between 1 and {pg1.size}\")\n",
    "    \n",
    "    psz = pg1.size\n",
    "    \n",
    "    \"\"\"\n",
    "    Instead of randomly choosing the first locus, i provide circularity by providing a random roll to the array and then operating on it:\n",
    "    in this case, choosing as 0 the first index is equivalent; finally the original order is restored by reversing the roll before returning;\n",
    "    \"\"\"\n",
    "    rollnum = rng.integers(psz-1) \n",
    "    rot_pg1 = np.roll(pg1,-rollnum)\n",
    "    rot_pg2 = np.roll(pg2,-rollnum)\n",
    "\n",
    "    rot_sg = rot_pg1.copy() # create son genome (rotated)\n",
    "\n",
    "    # select the subset of the given size from the first parent and create the mapping\n",
    "    mapping = dict()\n",
    "    last_ind = sz-1 # last index is simply sz-1 (sure not to go out of borders)\n",
    "    for i in range(last_ind+1):\n",
    "        mapping[rot_pg1[i]]=rot_pg2[i]\n",
    "    for i in range(last_ind+1,psz):\n",
    "        rot_sg[i]=rot_pg2[i]\n",
    "        while rot_sg[i] in mapping:\n",
    "            rot_sg[i] = mapping[rot_sg[i]]\n",
    "    \n",
    "    son_genome = np.roll(rot_sg,rollnum)\n",
    "    return Individual(son_genome)\n",
    "\n",
    "def OX(parent1:Individual,parent2:Individual,slice_size=2):\n",
    "    sz = slice_size\n",
    "    pg1 = parent1.genome()\n",
    "    pg2 = parent2.genome()\n",
    "    if sz<1:\n",
    "        raise Exception(f\"Slice size {sz} cannot be applied to {pg1.size}-long arrays, must be between 1 and {pg1.size}\")\n",
    "    elif pg1.size != pg2.size:\n",
    "        raise Exception(f\"Length of the genomes of the 2 parents must match, instead you provided parents with g.l. {pg1.size} and {pg2.size}\")\n",
    "    elif sz > pg1.size:\n",
    "        raise Exception(f\"Slice size {sz} cannot be applied to {pg1.size}-long arrays, must be between 1 and {pg1.size}\")\n",
    "    \n",
    "    psz = pg1.size\n",
    "    \n",
    "    \"\"\"\n",
    "    Instead of randomly choosing the first locus, i provide circularity by providing a random roll to the array and then operating on it:\n",
    "    in this case, choosing as 0 the first index is equivalent; finally the original order is restored by reversing the roll before returning;\n",
    "    \"\"\"\n",
    "    rollnum = rng.integers(psz-1) \n",
    "    rot_pg1 = np.roll(pg1,-rollnum)\n",
    "    rot_pg2 = np.roll(pg2,-rollnum)\n",
    "\n",
    "    rot_sg = rot_pg1.copy() # create son genome (rotated)\n",
    "\n",
    "    taken = rot_pg1[:sz] # elements copied from p1\n",
    "    offset = sz # start copying the rest from p2 starting from the first locus out of the copied section\n",
    "    idx2=0\n",
    "    for i in range(offset,psz):\n",
    "        while idx2<psz and rot_pg2[idx2] in taken:\n",
    "            idx2+=1\n",
    "        if idx2<psz:\n",
    "            rot_sg[i] = rot_pg2[idx2]\n",
    "            idx2+=1\n",
    "        else:\n",
    "            break\n",
    "\n",
    "    son_genome = np.roll(rot_sg,rollnum)\n",
    "    return Individual(son_genome)\n",
    "\n",
    "def CX(parent1:Individual,parent2:Individual):\n",
    "    pg1 = parent1.genome()\n",
    "    pg2 = parent2.genome()\n",
    "    psz = pg1.size\n",
    "    \n",
    "    son_genome = pg1.copy()\n",
    "    \n",
    "    pos_g1 = []\n",
    "    id1=None\n",
    "    while id1!=0:\n",
    "        if id1 is None:\n",
    "            id1=0\n",
    "        pos_g1.append(id1)\n",
    "\n",
    "        a2=pg2[id1] # p2 allele a2 corresponding to pg2[id1]\n",
    "        id1=np.where(pg1==a2)[0][0] # index id1 such that pg1[id1]==a2 allele from p2\n",
    "\n",
    "    idx2=0\n",
    "    pg2 = np.delete(pg2,pos_g1)\n",
    "    for i in range(psz):\n",
    "        if i not in pos_g1:\n",
    "            son_genome[i] = pg2[idx2]\n",
    "            idx2+=1\n",
    "\n",
    "    return Individual(son_genome)    \n"
   ]
  },
  {
   "cell_type": "markdown",
   "metadata": {},
   "source": [
    "### Hybrid Operators & Wrapping Classes\n",
    "Finally, i further define `Mutator` and `Recombinator` classes, that automatically wraps the all the relative method in once:\n",
    "- `Mutator` wraps all the mutation operators\n",
    "- `Recombinator` wraps all the recombination operators"
   ]
  },
  {
   "cell_type": "code",
   "execution_count": 11,
   "metadata": {},
   "outputs": [],
   "source": [
    "class Mutator:\n",
    "    __genome_size=None\n",
    "    __mutators=list()\n",
    "    __index=0\n",
    "\n",
    "    def __init__(self,genome_size):\n",
    "        self.__genome_size=genome_size\n",
    "        \"\"\" For each function we provide the name and the list of parameters;\n",
    "         each parameter is provided in a dictionary form where for the name of each parameter is provided\n",
    "         the tuple contaning (minval,maxval) for the random generation, with maxval excluded \"\"\"\n",
    "        self.__mutators = [(swap_mutation,{\"step\":(1,self.__genome_size)}),(inverse_mutation,{\"size\":(2,self.__genome_size+1)}),(insertion_mutation,{\"num_skips\":(1,self.__genome_size)})]\n",
    "    \n",
    "    def mutate(self,parent,*,strength_perc=100):\n",
    "        mut = self.__mutators[self.__index]\n",
    "        mut_func = mut[0]\n",
    "        mut_params = mut[1].copy()\n",
    "        for k in mut_params:\n",
    "            mut_params[k] = rng.integers(mut_params[k][0], mut_params[k][0]+math.ceil((mut_params[k][1]-mut_params[k][0])*strength_perc/100))\n",
    "        self.__index+=1\n",
    "        if self.__index>=len(self.__mutators):\n",
    "            self.__index=0\n",
    "        return mut_func(parent,**mut_params)\n",
    "\n",
    "    def __call__(self, *args, **kwds):\n",
    "        return self.mutate(*args, **kwds)\n",
    "    \n",
    "\n",
    "class Recombinator:\n",
    "    __genome_size=None\n",
    "    __recombinators=list()\n",
    "    __index=0\n",
    "\n",
    "    def __init__(self,genome_size):\n",
    "        self.__genome_size=genome_size\n",
    "        \"\"\" For each function we provide the name and the list of parameters;\n",
    "         each parameter is provided in a dictionary form where for the name of each parameter is provided\n",
    "         the tuple contaning (minval,maxval) for the random generation, with maxval excluded \"\"\"\n",
    "        self.__recombinators = [(PMX,{\"slice_size\":(1,self.__genome_size+1)}),(OX,{\"slice_size\":(1,self.__genome_size+1)}),(CX,dict())]\n",
    "    \n",
    "    def recombinate(self,p1,p2,*,stength_perc=100):\n",
    "        rec = self.__recombinators[self.__index]\n",
    "        rec_func = rec[0]\n",
    "        rec_params = rec[1].copy()\n",
    "        for k in rec_params:\n",
    "            rec_params[k] = rng.integers(rec_params[k][0], rec_params[k][0]+math.ceil((rec_params[k][1]-rec_params[k][0])*stength_perc/100))\n",
    "        self.__index+=1\n",
    "        if self.__index>=len(self.__recombinators):\n",
    "            self.__index=0\n",
    "        return rec_func(p1,p2,**rec_params)\n",
    "\n",
    "    def __call__(self, *args, **kwds):\n",
    "        return self.recombinate(*args, **kwds)\n",
    "    \n",
    "    \n",
    "MOP = Mutator(GENOME_SIZE)\n",
    "XOP = Recombinator(GENOME_SIZE)\n"
   ]
  },
  {
   "cell_type": "markdown",
   "metadata": {},
   "source": [
    "### Parent Selection\n",
    "\n",
    "Let's define parent selection function: i chose to use *tournament selection*, selecting a given number of individuals and then choosing the fittest one as a parent.\n",
    "\n",
    "The `tau` parameter represent the number of individuals picked with substitution to create the pool to draw the winner from: different values of it allows to choose different levels of selective pressure.\n"
   ]
  },
  {
   "cell_type": "code",
   "execution_count": 12,
   "metadata": {},
   "outputs": [],
   "source": [
    "def parent_selection(population,*,tau=3):\n",
    "    \"\"\" Perform tournament selection on `population`, by randomly picking `tau` individuals,\n",
    "     one at the time and with replacement, choosing then the fittest **one** \"\"\"\n",
    "    candidates = sorted(np.random.choice(population, tau), key=lambda e: e.fitness(), reverse=True)\n",
    "    return candidates[0]"
   ]
  },
  {
   "cell_type": "markdown",
   "metadata": {},
   "source": [
    "### Parameters\n",
    "\n",
    "Finally, before running the algorithm, let's define all the parameters used in order to have a known and precise configuration.\n",
    "\n",
    "Almost all parameters are linearly-dependent on `POPULATION_SIZE`, the first parameter defined, that can be dimensioned with a logarithmic or linear relation to the `GENOME_SIZE`.\n",
    "\n",
    "Indeed, even if initially a linear dependency (3x) was used for the `POPULATION_SIZE-GENOME_SIZE` relationship in order to have the complexity of the model (*defined by parameters*) proportional to genome size, then i switched to a non-linear one (*log*) due to huge computational times, cutting computational time for huge genomes at the expenses of the global optimization.\n",
    "\n",
    "However, if accuracy needs to be maximized, it is sufficient to switch the relationships by commenting/uncommenting the related 2 lines, considering that the 2 alternatives are fine tuned (*numbers in the log relationship*) to provide consistent results for small datasets."
   ]
  },
  {
   "cell_type": "code",
   "execution_count": 13,
   "metadata": {},
   "outputs": [
    {
     "name": "stderr",
     "output_type": "stream",
     "text": [
      "ic| GENOME_SIZE: 8\n",
      "ic| POPULATION_SIZE: 59\n",
      "ic| OFFSPRING_SIZE: 23\n",
      "ic| MAX_GENERATIONS: 472\n",
      "ic| START_MUTATION_PROBABILITY: 0.1\n",
      "ic| END_MUTATION_PROBABILITY: 0.7\n",
      "ic| TAU: 2\n"
     ]
    }
   ],
   "source": [
    "ic(GENOME_SIZE)\n",
    "\n",
    "\"\"\" Make population proportional non-linearly to GENOME_SIZE using the log\n",
    "    values 0.1 and 1.006 have been fine tuned by switching from linear proportion to\n",
    "    log proportion to reduce overhead for big genomes, keeping low genomes accurate\"\"\"\n",
    "# choose: log (faster) vs linear (more accurate)\n",
    "POPULATION_SIZE = math.ceil(0.6*math.log(0.1*GENOME_SIZE+1,1.006))\n",
    "#POPULATION_SIZE = 3*GENOME_SIZE\n",
    "\n",
    "ic(POPULATION_SIZE)\n",
    "\n",
    "\"\"\"Make Offspring proportional to POPULATION by the constant K_OFFPOP\"\"\"\n",
    "K_OFFPOP = 0.4 \n",
    "OFFSPRING_SIZE = math.floor(POPULATION_SIZE*K_OFFPOP)\n",
    "# if OFFSPRING_SIZE << POPULATION_SIZE => more Steady-State model\n",
    "# if OFFSPRING_SIZE >> POPOLUTION_SIZE => more Generational model\n",
    "ic(OFFSPRING_SIZE)\n",
    "\n",
    "\"\"\"Make the MAX number of Generations proportional to the Population by the constant K_MG\"\"\"\n",
    "K_MGPOP=8\n",
    "MAX_GENERATIONS=K_MGPOP*POPULATION_SIZE\n",
    "ic(MAX_GENERATIONS)\n",
    "\n",
    "\"\"\" MUTATION_PROBABILITY linearly increase to have the genetic counterpart of simulated annealing:\n",
    "    mutation is more focused on exploitation, so we increase it in the end for optimization \"\"\"\n",
    "START_MUTATION_PROBABILITY=0.1\n",
    "END_MUTATION_PROBABILITY=0.7\n",
    "ic(START_MUTATION_PROBABILITY);\n",
    "ic(END_MUTATION_PROBABILITY);\n",
    "\n",
    "# parent selection\n",
    "TAU=math.floor(POPULATION_SIZE/20)\n",
    "ic(TAU);\n"
   ]
  },
  {
   "cell_type": "markdown",
   "metadata": {},
   "source": [
    "### Exploration Boost\n",
    "\n",
    "if no improvement (<`delta_min_improvement`) occurs after a given number of iterations, i allow the algorithm to **slow-down**: indeed the algorithm works by gradually increasing the `MUTATION_PROBABILITY` and `MUTATION_STRENGTH` in order to focus on exploration in a first instance (more xover, more mutation strength) and on exploitation in a further step; the **exploration boost** mechansim detect wheteher there is very little to improve in the local maximum, refocusing on exploration to get out of a local maximum.\n",
    "\n",
    "However, even if this is useful, refocusing on exploration can still proide no benefits; for this reason, after an even bigger number of iterations with no improvement, the speed is restored and the *trust* in this mechanism is decreased, meaning that in case the situation occurs again, the deceleration is much less powerful (`1/3`)."
   ]
  },
  {
   "cell_type": "code",
   "execution_count": 14,
   "metadata": {},
   "outputs": [],
   "source": [
    "\"\"\" EXPLORATION BOOST: if no improevement (<`delta_min_improvement`) occurs after a given number of iterations,\n",
    "    the algorithm can slow-down, refocusing on exploration to get out of a local maximum\"\"\"\n",
    "delta_min_improvement=0.01\n",
    "last_improvement_gen = None\n",
    "last_max_fitness = None\n",
    "SPEED=1\n",
    "\n",
    "SPEED_INC=0.001\n",
    "SPEED_DEC=0.008\n",
    "\n",
    "def check_improvement(this_gen):\n",
    "    global population\n",
    "    global last_improvement_gen\n",
    "    global last_max_fitness\n",
    "    global SPEED\n",
    "    global SPEED_DEC\n",
    "    global SPEED_INC\n",
    "    global delta_min_improvement\n",
    "    global MAX_GENERATIONS\n",
    "\n",
    "    current_mf = max([i.fitness() for i in population])\n",
    "    if last_improvement_gen is None:\n",
    "        # set initial values\n",
    "        last_improvement_gen = this_gen\n",
    "    elif abs((current_mf-last_max_fitness)/last_max_fitness)>delta_min_improvement:\n",
    "        # if the algorithm work, tend to full speed (SPEED=1)\n",
    "        new_SPEED = SPEED+SPEED_INC\n",
    "        SPEED = min(new_SPEED,1)\n",
    "        last_improvement_gen = this_gen\n",
    "    elif this_gen-last_improvement_gen>MAX_GENERATIONS/15: # escape from local maximum!\n",
    "        if this_gen-last_improvement_gen>MAX_GENERATIONS/5: # give up\n",
    "            SPEED=1\n",
    "            SPEED_DEC/=3 # less trust in the mechanism\n",
    "            last_improvement_gen = this_gen\n",
    "        else:\n",
    "            # IF THERE ARE NO IMPROVEMENTS: increase exploration, slowing down the algorithm\n",
    "            new_SPEED = SPEED-SPEED_DEC\n",
    "            SPEED = max(new_SPEED,0)    \n",
    "    last_max_fitness = current_mf"
   ]
  },
  {
   "cell_type": "markdown",
   "metadata": {},
   "source": [
    "### Core Algorithm\n",
    "\n",
    "The core of the algorithm starts from the solution provided by the greedy algorithm: half of the population is generated by mutating it with a low strength, while the other half is randomly generated to provide diversity.\n",
    "\n",
    "Two histories tracks the progress in the total cost (-fitness) and the outgoing on the speed."
   ]
  },
  {
   "cell_type": "code",
   "execution_count": 15,
   "metadata": {},
   "outputs": [
    {
     "name": "stderr",
     "output_type": "stream",
     "text": [
      "ic| population[0].fitness(): np.float64(-1529.791671573383)\n"
     ]
    },
    {
     "data": {
      "application/vnd.jupyter.widget-view+json": {
       "model_id": "2be360b0355f419182af5087c885ae0c",
       "version_major": 2,
       "version_minor": 0
      },
      "text/plain": [
       "Generation:   0%|          | 0/472 [00:00<?, ?it/s]"
      ]
     },
     "metadata": {},
     "output_type": "display_data"
    },
    {
     "name": "stderr",
     "output_type": "stream",
     "text": [
      "ic| genome_cost.calls: 10918\n",
      "ic| population[0].fitness(): np.float64(-1345.5449564733115)\n",
      "ic| population[0].genome(): array([5, 3, 4, 1, 7, 0, 2, 6])\n"
     ]
    },
    {
     "data": {
      "image/png": "[encoded data removed]",
      "text/plain": [
       "<Figure size 1400x400 with 1 Axes>"
      ]
     },
     "metadata": {},
     "output_type": "display_data"
    },
    {
     "data": {
      "image/png": "[encoded data removed]",
      "text/plain": [
       "<Figure size 1400x400 with 1 Axes>"
      ]
     },
     "metadata": {},
     "output_type": "display_data"
    }
   ],
   "source": [
    "\n",
    "start_individual = Individual(greedy_solution)\n",
    "population = [Individual.getRandom() if i<POPULATION_SIZE/2 else MOP.mutate(start_individual,strength_perc=10) for i in range(POPULATION_SIZE)] # start from greedy solution\n",
    "\n",
    "ic(population[0].fitness())\n",
    "history = [-population[0].fitness()]\n",
    "speed_history = list()\n",
    "        \n",
    "\n",
    "for g in tqdm(range(MAX_GENERATIONS),position=0,desc=\"Generation\"):\n",
    "    check_improvement(g)\n",
    "    progress = (g*SPEED)/(MAX_GENERATIONS)\n",
    "    MUTATION_PROBABILITY = START_MUTATION_PROBABILITY * (1-progress) + END_MUTATION_PROBABILITY * progress\n",
    "    offspring = list()\n",
    "    for _ in range(OFFSPRING_SIZE):\n",
    "        if rng.random()<MUTATION_PROBABILITY:\n",
    "            p = parent_selection(population, tau=TAU)\n",
    "            o = MOP.mutate(p,strength_perc=70*(1-progress)+1*progress)\n",
    "        else:\n",
    "            p1 = parent_selection(population, tau=TAU)\n",
    "            p2 = parent_selection(population, tau=TAU)\n",
    "            o = XOP(p1, p2)\n",
    "        offspring.append(o)\n",
    "\n",
    "    # SURVIVOR SELECTION\n",
    "    population.extend(offspring)\n",
    "    population.sort(key=lambda i: i.fitness(), reverse=True)\n",
    "    population = population[:POPULATION_SIZE]\n",
    "    history.append(-population[0].fitness())\n",
    "    speed_history.append(SPEED)\n",
    "\n",
    "ic(genome_cost.calls)\n",
    "ic(population[0].fitness())\n",
    "ic(population[0].genome())\n",
    "plt.figure(figsize=(14, 4))\n",
    "plt.plot(history)\n",
    "plt.xlabel(\"generation\")\n",
    "plt.ylabel(\"TOT. distance (km)\")\n",
    "plt.figure(figsize=(14, 4))\n",
    "plt.plot(np.array(speed_history),color=\"red\")\n",
    "plt.xlabel(\"generation\")\n",
    "plt.ylabel(\"algorithm speed\");"
   ]
  },
  {
   "cell_type": "markdown",
   "metadata": {},
   "source": [
    "Finally, i print some info about the retrieved solution:"
   ]
  },
  {
   "cell_type": "code",
   "execution_count": 16,
   "metadata": {},
   "outputs": [
    {
     "name": "stdout",
     "output_type": "stream",
     "text": [
      "\u001b[1;30;42mChosen TSP Path (TOT. of 1345.5449564733115 km):\u001b[0m\n",
      "0.  Port Olry ---> Luganville (52.02059578889833 km)\n",
      "1.  Luganville ---> Norsup (67.09129555835896 km)\n",
      "2.  Norsup ---> Lakatoro (2.458237855964039 km)\n",
      "3.  Lakatoro ---> Vila (206.73999705909532 km)\n",
      "4.  Vila ---> Isangel (223.00475078893413 km)\n",
      "5.  Isangel ---> Longana (487.4945091162275 km)\n",
      "6.  Longana ---> Sola (165.48511208446135 km)\n",
      "7.  Sola ---> Port Olry (141.25045822137164 km)\n"
     ]
    }
   ],
   "source": [
    "solution = population[0]\n",
    "sg = solution.genome()\n",
    "hprint(f\"Chosen TSP Path (TOT. of {-solution.fitness()} km):\")\n",
    "for i in range(GENOME_SIZE):\n",
    "    j=i+1 if i+1<GENOME_SIZE else 0\n",
    "    print(f\"{i}.  {cities.loc[sg[i],\"name\"]} ---> {cities.loc[sg[j],\"name\"]} ({dist_matrix[sg[i],sg[j]]} km)\")"
   ]
  }
 ],
 "metadata": {
  "kernelspec": {
   "display_name": ".venv",
   "language": "python",
   "name": "python3"
  },
  "language_info": {
   "codemirror_mode": {
    "name": "ipython",
    "version": 3
   },
   "file_extension": ".py",
   "mimetype": "text/x-python",
   "name": "python",
   "nbconvert_exporter": "python",
   "pygments_lexer": "ipython3",
   "version": "3.12.4"
  }
 },
 "nbformat": 4,
 "nbformat_minor": 2
}
